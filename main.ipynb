{
 "cells": [
  {
   "cell_type": "code",
   "execution_count": 39,
   "metadata": {},
   "outputs": [
    {
     "name": "stdout",
     "output_type": "stream",
     "text": [
      "                                           Paragraph\n",
      "0   \\n \\nTAUÃ SANTOS \\nVila Mariana , São Paulo, ...\n",
      "1   \\n \\n  \\n \\n \\n \\n \\n \\n  \\n \\n \\nworkflows, ...\n"
     ]
    }
   ],
   "source": [
    "import fitz  # PyMuPDF\n",
    "import pandas as pd\n",
    "\n",
    "pdf_file = r\"C:\\Users\\alsot\\Downloads\\CV_TAUA_SANTOS_ENG.pdf\" \n",
    "\n",
    "\n",
    "def extract_paragraphs(pdf_path):\n",
    "    doc = fitz.open(pdf_path)  # Open the PDF\n",
    "    paragraphs = []  # List to store paragraphs\n",
    "    \n",
    "    # Loop through pages in the PDF\n",
    "    for page in doc:\n",
    "        text = page.get_text(\"text\")  # Extract text as plain text\n",
    "        # Split text by blank lines to identify paragraphs\n",
    "        paragraphs_in_page = text.split(\"\\n\\n\")  # Two newline characters as separator\n",
    "        paragraphs.extend(paragraphs_in_page)  # Add to the list\n",
    "\n",
    "    return paragraphs\n",
    "\n",
    "def save_paragraphs_to_dataframe(paragraphs):\n",
    "    # Create a DataFrame from the paragraphs\n",
    "    df = pd.DataFrame(paragraphs, columns=[\"Paragraph\"])\n",
    "    return df\n",
    "\n",
    "# Example usage\n",
    "\n",
    "paragraphs = extract_paragraphs(pdf_file)\n",
    "df_paragraphs = save_paragraphs_to_dataframe(paragraphs)\n",
    "\n",
    "# Show the DataFrame (first few rows)\n",
    "print(df_paragraphs.head())\n",
    "\n",
    "# Optionally, you can save it to a CSV file\n",
    "df_paragraphs.to_csv(\"paragraphs.csv\", index=False)\n"
   ]
  },
  {
   "cell_type": "code",
   "execution_count": 82,
   "metadata": {},
   "outputs": [],
   "source": [
    "import PyPDF2\n",
    "import pandas as pd\n",
    "\n",
    "# Path to your PDF file\n",
    "pdf_file = r\"C:\\Users\\alsot\\Downloads\\CV_TAUA_SANTOS_ENG.pdf\" \n",
    "\n",
    "# Open the PDF file\n",
    "with open(pdf_file, \"rb\") as file:\n",
    "    reader = PyPDF2.PdfReader(file)\n",
    "    \n",
    "    # Extract text from each page\n",
    "    text = \"\"\n",
    "    for page in reader.pages:\n",
    "        text += page.extract_text()\n",
    "\n",
    "# Reconstruct paragraphs\n",
    "paragraphs = []\n",
    "current_paragraph = \"\"\n",
    "\n",
    "# Split the text into lines\n",
    "lines = text.split(\"\\n\")\n",
    "\n",
    "blank_count = 0\n",
    "\n",
    "# Iterate through the lines and reconstruct paragraphs\n",
    "for line in lines:\n",
    "    if line == ' ':\n",
    "        blank_count+=1\n",
    "    else:\n",
    "        blank_count = 0\n",
    "\n",
    "    if blank_count < 2:\n",
    "        current_paragraph += line\n",
    "    else:\n",
    "        paragraphs.append(current_paragraph)\n",
    "        current_paragraph = ''\n",
    "    \n",
    "    \n",
    "    # if line.strip() == \"\":  # Empty line indicates a paragraph break\n",
    "    #     if current_paragraph.strip() != \"\":  # Avoid adding empty paragraphs\n",
    "    #         paragraphs.append(current_paragraph.strip())\n",
    "    #         current_paragraph = \"\"\n",
    "    # else:\n",
    "    #     current_paragraph += line + \" \"  # Add the line to the current paragraph\n",
    "\n",
    "# Add the last paragraph (if any)\n",
    "if current_paragraph.strip() != \"\":\n",
    "    paragraphs.append(current_paragraph.strip())\n",
    "\n",
    "# Create a pandas DataFrame\n",
    "df = pd.DataFrame(paragraphs, columns=[\"Paragraph\"])\n"
   ]
  },
  {
   "cell_type": "code",
   "execution_count": 93,
   "metadata": {},
   "outputs": [
    {
     "data": {
      "text/plain": [
       "0                                                      \n",
       "1     TAUÃ SANTOS Vila Mariana , São Paulo, SP | tau...\n",
       "2                                                      \n",
       "3     EDUCATION SÃO PAULO UNIVERSITY (POLYTECHNIC SC...\n",
       "4     Junior Product Analyst | 04/2021 - 04/2022 ● P...\n",
       "5                                                      \n",
       "6                                                      \n",
       "7                                                      \n",
       "8                                                      \n",
       "9                                                      \n",
       "10                                                     \n",
       "11                                                     \n",
       "12                                                     \n",
       "13                                                     \n",
       "14                                                     \n",
       "15    workflows, and supported compliance with inter...\n",
       "16                                                     \n",
       "17    SUPPLEMENTARY EDUCATION Business Training Comp...\n",
       "18    ● Languages and Tools: Python (Pandas, Pyodbc,...\n",
       "19                                           LANGUAGES \n",
       "20                                  ● Inglês: Avançado \n",
       "21                                                     \n",
       "22                                                     \n",
       "23                                                     \n",
       "Name: Paragraph, dtype: object"
      ]
     },
     "execution_count": 93,
     "metadata": {},
     "output_type": "execute_result"
    }
   ],
   "source": [
    "df['Paragraph'].dropna()"
   ]
  }
 ],
 "metadata": {
  "kernelspec": {
   "display_name": "myenv",
   "language": "python",
   "name": "python3"
  },
  "language_info": {
   "codemirror_mode": {
    "name": "ipython",
    "version": 3
   },
   "file_extension": ".py",
   "mimetype": "text/x-python",
   "name": "python",
   "nbconvert_exporter": "python",
   "pygments_lexer": "ipython3",
   "version": "3.7.0"
  }
 },
 "nbformat": 4,
 "nbformat_minor": 2
}
